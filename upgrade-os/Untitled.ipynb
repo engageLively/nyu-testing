{
 "cells": [
  {
   "cell_type": "code",
   "execution_count": 1,
   "id": "e96a03be-c445-45c8-a93e-c41a46311040",
   "metadata": {},
   "outputs": [],
   "source": [
    "def repeat_to_meet_bytes(input_str, byte_requirement):\n",
    "    byte_length = len(input_str.encode('utf-8'))\n",
    "    if byte_length == 0:\n",
    "        return \"\"\n",
    "    repeat_count = (byte_requirement // byte_length) + 1\n",
    "    repeated_str = (input_str * repeat_count)\n",
    "    truncated_str = repeated_str.encode('utf-8')[:byte_requirement].decode('utf-8', 'ignore')\n",
    "    return truncated_str\n"
   ]
  },
  {
   "cell_type": "code",
   "execution_count": 2,
   "id": "6df1cde9-eb6c-4fd1-a3f6-e3970aefa19b",
   "metadata": {},
   "outputs": [
    {
     "data": {
      "text/plain": [
       "'hello worldhello worldhello worldhello worldhello worldhello wor'"
      ]
     },
     "execution_count": 2,
     "metadata": {},
     "output_type": "execute_result"
    }
   ],
   "source": [
    "repeat_to_meet_bytes('hello world', 64)"
   ]
  },
  {
   "cell_type": "code",
   "execution_count": null,
   "id": "08622568-b387-4006-8179-804a49180040",
   "metadata": {},
   "outputs": [],
   "source": []
  }
 ],
 "metadata": {
  "kernelspec": {
   "display_name": "Python 3 (ipykernel)",
   "language": "python",
   "name": "python3"
  },
  "language_info": {
   "codemirror_mode": {
    "name": "ipython",
    "version": 3
   },
   "file_extension": ".py",
   "mimetype": "text/x-python",
   "name": "python",
   "nbconvert_exporter": "python",
   "pygments_lexer": "ipython3",
   "version": "3.10.12"
  }
 },
 "nbformat": 4,
 "nbformat_minor": 5
}
